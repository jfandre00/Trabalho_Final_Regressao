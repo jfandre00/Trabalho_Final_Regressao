{
 "cells": [
  {
   "cell_type": "markdown",
   "id": "be7363a7",
   "metadata": {},
   "source": [
    "## -------------------------------------------------------------------\n",
    "## PROJETO FINAL: MODELO DE REGRESSÃO LINEAR\n",
    "## GRUPO INFNET \"R\"\n",
    "## Data: 08/09/2025\n",
    "## Descrição: Análise dos fatores que influenciam os custos médicos.\n",
    "## -------------------------------------------------------------------"
   ]
  },
  {
   "cell_type": "markdown",
   "id": "be39a4d1",
   "metadata": {},
   "source": [
    "### 1ª ETAPA: CONFIGURAÇÃO DO AMBIENTE"
   ]
  },
  {
   "cell_type": "code",
   "execution_count": 3,
   "id": "cc0d14a7",
   "metadata": {
    "vscode": {
     "languageId": "r"
    }
   },
   "outputs": [
    {
     "name": "stdout",
     "output_type": "stream",
     "text": [
      "pacote 'tidyverse' desempacotado com sucesso e somas MD5 verificadas\n",
      "\n",
      "Os pacotes binários baixados estão em\n",
      "\tC:\\Users\\jfand\\AppData\\Local\\Temp\\Rtmp4COMyN\\downloaded_packages\n",
      "pacote 'corrplot' desempacotado com sucesso e somas MD5 verificadas\n",
      "\n",
      "Os pacotes binários baixados estão em\n",
      "\tC:\\Users\\jfand\\AppData\\Local\\Temp\\Rtmp4COMyN\\downloaded_packages\n",
      "pacote 'S7' desempacotado com sucesso e somas MD5 verificadas\n",
      "pacote 'ggplot2' desempacotado com sucesso e somas MD5 verificadas\n",
      "\n",
      "Os pacotes binários baixados estão em\n",
      "\tC:\\Users\\jfand\\AppData\\Local\\Temp\\Rtmp4COMyN\\downloaded_packages\n"
     ]
    }
   ],
   "source": [
    "### Instalar pacotes\n",
    "suppressMessages(install.packages(\"tidyverse\"))\n",
    "suppressMessages(install.packages(\"corrplot\"))\n",
    "suppressMessages(install.packages(\"ggplot2\"))"
   ]
  },
  {
   "cell_type": "code",
   "execution_count": 4,
   "id": "4c3684a4",
   "metadata": {
    "vscode": {
     "languageId": "r"
    }
   },
   "outputs": [
    {
     "name": "stderr",
     "output_type": "stream",
     "text": [
      "── \u001b[1mAttaching core tidyverse packages\u001b[22m ──────────────────────── tidyverse 2.0.0 ──\n",
      "\u001b[32m✔\u001b[39m \u001b[34mdplyr    \u001b[39m 1.1.4     \u001b[32m✔\u001b[39m \u001b[34mreadr    \u001b[39m 2.1.5\n",
      "\u001b[32m✔\u001b[39m \u001b[34mforcats  \u001b[39m 1.0.0     \u001b[32m✔\u001b[39m \u001b[34mstringr  \u001b[39m 1.5.1\n",
      "\u001b[32m✔\u001b[39m \u001b[34mggplot2  \u001b[39m 4.0.0     \u001b[32m✔\u001b[39m \u001b[34mtibble   \u001b[39m 3.3.0\n",
      "\u001b[32m✔\u001b[39m \u001b[34mlubridate\u001b[39m 1.9.4     \u001b[32m✔\u001b[39m \u001b[34mtidyr    \u001b[39m 1.3.1\n",
      "\u001b[32m✔\u001b[39m \u001b[34mpurrr    \u001b[39m 1.1.0     \n",
      "── \u001b[1mConflicts\u001b[22m ────────────────────────────────────────── tidyverse_conflicts() ──\n",
      "\u001b[31m✖\u001b[39m \u001b[34mdplyr\u001b[39m::\u001b[32mfilter()\u001b[39m masks \u001b[34mstats\u001b[39m::filter()\n",
      "\u001b[31m✖\u001b[39m \u001b[34mdplyr\u001b[39m::\u001b[32mlag()\u001b[39m    masks \u001b[34mstats\u001b[39m::lag()\n",
      "\u001b[36mℹ\u001b[39m Use the conflicted package (\u001b[3m\u001b[34m<http://conflicted.r-lib.org/>\u001b[39m\u001b[23m) to force all conflicts to become errors\n",
      "corrplot 0.95 loaded\n",
      "\n"
     ]
    }
   ],
   "source": [
    "### Carregar os pacotes\n",
    "library(tidyverse)\n",
    "library(corrplot)\n",
    "library(ggplot2)"
   ]
  },
  {
   "cell_type": "markdown",
   "id": "7f64218e",
   "metadata": {},
   "source": [
    "### 2ª ETAPA: CARGA E VERIFICAÇÃO DOS DADOS"
   ]
  },
  {
   "cell_type": "code",
   "execution_count": 5,
   "id": "dac4b347",
   "metadata": {
    "vscode": {
     "languageId": "r"
    }
   },
   "outputs": [],
   "source": [
    "dados <- read.csv(\".././data/insurance.csv\")"
   ]
  },
  {
   "cell_type": "code",
   "execution_count": 6,
   "id": "0551cc48",
   "metadata": {
    "vscode": {
     "languageId": "r"
    }
   },
   "outputs": [
    {
     "data": {
      "text/html": [
       "<table class=\"dataframe\">\n",
       "<caption>A data.frame: 6 × 7</caption>\n",
       "<thead>\n",
       "\t<tr><th></th><th scope=col>age</th><th scope=col>sex</th><th scope=col>bmi</th><th scope=col>children</th><th scope=col>smoker</th><th scope=col>region</th><th scope=col>charges</th></tr>\n",
       "\t<tr><th></th><th scope=col>&lt;int&gt;</th><th scope=col>&lt;chr&gt;</th><th scope=col>&lt;dbl&gt;</th><th scope=col>&lt;int&gt;</th><th scope=col>&lt;chr&gt;</th><th scope=col>&lt;chr&gt;</th><th scope=col>&lt;dbl&gt;</th></tr>\n",
       "</thead>\n",
       "<tbody>\n",
       "\t<tr><th scope=row>1</th><td>19</td><td>female</td><td>27.900</td><td>0</td><td>yes</td><td>southwest</td><td>16884.924</td></tr>\n",
       "\t<tr><th scope=row>2</th><td>18</td><td>male  </td><td>33.770</td><td>1</td><td>no </td><td>southeast</td><td> 1725.552</td></tr>\n",
       "\t<tr><th scope=row>3</th><td>28</td><td>male  </td><td>33.000</td><td>3</td><td>no </td><td>southeast</td><td> 4449.462</td></tr>\n",
       "\t<tr><th scope=row>4</th><td>33</td><td>male  </td><td>22.705</td><td>0</td><td>no </td><td>northwest</td><td>21984.471</td></tr>\n",
       "\t<tr><th scope=row>5</th><td>32</td><td>male  </td><td>28.880</td><td>0</td><td>no </td><td>northwest</td><td> 3866.855</td></tr>\n",
       "\t<tr><th scope=row>6</th><td>31</td><td>female</td><td>25.740</td><td>0</td><td>no </td><td>southeast</td><td> 3756.622</td></tr>\n",
       "</tbody>\n",
       "</table>\n"
      ],
      "text/latex": [
       "A data.frame: 6 × 7\n",
       "\\begin{tabular}{r|lllllll}\n",
       "  & age & sex & bmi & children & smoker & region & charges\\\\\n",
       "  & <int> & <chr> & <dbl> & <int> & <chr> & <chr> & <dbl>\\\\\n",
       "\\hline\n",
       "\t1 & 19 & female & 27.900 & 0 & yes & southwest & 16884.924\\\\\n",
       "\t2 & 18 & male   & 33.770 & 1 & no  & southeast &  1725.552\\\\\n",
       "\t3 & 28 & male   & 33.000 & 3 & no  & southeast &  4449.462\\\\\n",
       "\t4 & 33 & male   & 22.705 & 0 & no  & northwest & 21984.471\\\\\n",
       "\t5 & 32 & male   & 28.880 & 0 & no  & northwest &  3866.855\\\\\n",
       "\t6 & 31 & female & 25.740 & 0 & no  & southeast &  3756.622\\\\\n",
       "\\end{tabular}\n"
      ],
      "text/markdown": [
       "\n",
       "A data.frame: 6 × 7\n",
       "\n",
       "| <!--/--> | age &lt;int&gt; | sex &lt;chr&gt; | bmi &lt;dbl&gt; | children &lt;int&gt; | smoker &lt;chr&gt; | region &lt;chr&gt; | charges &lt;dbl&gt; |\n",
       "|---|---|---|---|---|---|---|---|\n",
       "| 1 | 19 | female | 27.900 | 0 | yes | southwest | 16884.924 |\n",
       "| 2 | 18 | male   | 33.770 | 1 | no  | southeast |  1725.552 |\n",
       "| 3 | 28 | male   | 33.000 | 3 | no  | southeast |  4449.462 |\n",
       "| 4 | 33 | male   | 22.705 | 0 | no  | northwest | 21984.471 |\n",
       "| 5 | 32 | male   | 28.880 | 0 | no  | northwest |  3866.855 |\n",
       "| 6 | 31 | female | 25.740 | 0 | no  | southeast |  3756.622 |\n",
       "\n"
      ],
      "text/plain": [
       "  age sex    bmi    children smoker region    charges  \n",
       "1 19  female 27.900 0        yes    southwest 16884.924\n",
       "2 18  male   33.770 1        no     southeast  1725.552\n",
       "3 28  male   33.000 3        no     southeast  4449.462\n",
       "4 33  male   22.705 0        no     northwest 21984.471\n",
       "5 32  male   28.880 0        no     northwest  3866.855\n",
       "6 31  female 25.740 0        no     southeast  3756.622"
      ]
     },
     "metadata": {},
     "output_type": "display_data"
    },
    {
     "name": "stdout",
     "output_type": "stream",
     "text": [
      "'data.frame':\t1338 obs. of  7 variables:\n",
      " $ age     : int  19 18 28 33 32 31 46 37 37 60 ...\n",
      " $ sex     : chr  \"female\" \"male\" \"male\" \"male\" ...\n",
      " $ bmi     : num  27.9 33.8 33 22.7 28.9 ...\n",
      " $ children: int  0 1 3 0 0 0 1 3 2 0 ...\n",
      " $ smoker  : chr  \"yes\" \"no\" \"no\" \"no\" ...\n",
      " $ region  : chr  \"southwest\" \"southeast\" \"southeast\" \"northwest\" ...\n",
      " $ charges : num  16885 1726 4449 21984 3867 ...\n"
     ]
    }
   ],
   "source": [
    "# Verificar se os dados foram carregados corretamente\n",
    "head(dados)\n",
    "str(dados)"
   ]
  },
  {
   "cell_type": "markdown",
   "id": "8f511b7e",
   "metadata": {},
   "source": [
    "### 3ª ETAPA: LIMPEZA E PREPARAÇÃO"
   ]
  },
  {
   "cell_type": "code",
   "execution_count": 7,
   "id": "651b376c",
   "metadata": {
    "vscode": {
     "languageId": "r"
    }
   },
   "outputs": [
    {
     "name": "stdout",
     "output_type": "stream",
     "text": [
      "'data.frame':\t1338 obs. of  7 variables:\n",
      " $ age     : int  19 18 28 33 32 31 46 37 37 60 ...\n",
      " $ sex     : Factor w/ 2 levels \"female\",\"male\": 1 2 2 2 2 1 1 1 2 1 ...\n",
      " $ bmi     : num  27.9 33.8 33 22.7 28.9 ...\n",
      " $ children: int  0 1 3 0 0 0 1 3 2 0 ...\n",
      " $ smoker  : Factor w/ 2 levels \"no\",\"yes\": 2 1 1 1 1 1 1 1 1 1 ...\n",
      " $ region  : Factor w/ 4 levels \"northeast\",\"northwest\",..: 4 3 3 2 2 3 3 2 1 2 ...\n",
      " $ charges : num  16885 1726 4449 21984 3867 ...\n"
     ]
    }
   ],
   "source": [
    "# Descreve a estrutura dos dados, e o primeiro ponto a se observar é a tipagem das colunas\n",
    "# sex, smoker e region, que estão como chr, tornando impossível de se trabalhar com elas como\n",
    "# colunas categóricas.\n",
    "\n",
    "dados <- dados %>%\n",
    "  mutate(\n",
    "    sex = as.factor(sex),\n",
    "    smoker = as.factor(smoker),\n",
    "    region = as.factor(region)\n",
    "  )\n",
    "\n",
    "# Realiza-se então a conversão para o tipo factor e verifica-se a estrutura novamente.\n",
    "str(dados)"
   ]
  },
  {
   "cell_type": "code",
   "execution_count": 8,
   "id": "91320023",
   "metadata": {
    "vscode": {
     "languageId": "r"
    }
   },
   "outputs": [
    {
     "data": {
      "text/html": [
       "<style>\n",
       ".dl-inline {width: auto; margin:0; padding: 0}\n",
       ".dl-inline>dt, .dl-inline>dd {float: none; width: auto; display: inline-block}\n",
       ".dl-inline>dt::after {content: \":\\0020\"; padding-right: .5ex}\n",
       ".dl-inline>dt:not(:first-of-type) {padding-left: .5ex}\n",
       "</style><dl class=dl-inline><dt>age</dt><dd>0</dd><dt>sex</dt><dd>0</dd><dt>bmi</dt><dd>0</dd><dt>children</dt><dd>0</dd><dt>smoker</dt><dd>0</dd><dt>region</dt><dd>0</dd><dt>charges</dt><dd>0</dd></dl>\n"
      ],
      "text/latex": [
       "\\begin{description*}\n",
       "\\item[age] 0\n",
       "\\item[sex] 0\n",
       "\\item[bmi] 0\n",
       "\\item[children] 0\n",
       "\\item[smoker] 0\n",
       "\\item[region] 0\n",
       "\\item[charges] 0\n",
       "\\end{description*}\n"
      ],
      "text/markdown": [
       "age\n",
       ":   0sex\n",
       ":   0bmi\n",
       ":   0children\n",
       ":   0smoker\n",
       ":   0region\n",
       ":   0charges\n",
       ":   0\n",
       "\n"
      ],
      "text/plain": [
       "     age      sex      bmi children   smoker   region  charges \n",
       "       0        0        0        0        0        0        0 "
      ]
     },
     "metadata": {},
     "output_type": "display_data"
    }
   ],
   "source": [
    "colSums(is.na(dados))\n",
    "# verificar valores faltantes (NA). O dataset está sem valores ausentes."
   ]
  },
  {
   "cell_type": "code",
   "execution_count": 9,
   "id": "e3e41a39",
   "metadata": {
    "vscode": {
     "languageId": "r"
    }
   },
   "outputs": [
    {
     "name": "stdout",
     "output_type": "stream",
     "text": [
      "[1] \"Número de linhas duplicadas encontradas: 1\"\n"
     ]
    }
   ],
   "source": [
    "duplicados <- sum(duplicated(dados))\n",
    "print(paste(\"Número de linhas duplicadas encontradas:\", duplicados))\n",
    "# Identifica e exibe quantidade de linhas com valores duplicados."
   ]
  },
  {
   "cell_type": "code",
   "execution_count": 10,
   "id": "5549bd27",
   "metadata": {
    "vscode": {
     "languageId": "r"
    }
   },
   "outputs": [
    {
     "name": "stdout",
     "output_type": "stream",
     "text": [
      "[1] \"Linha(s) duplicada(s) removida(s).\"\n"
     ]
    }
   ],
   "source": [
    "if (duplicados > 0) {\n",
    "  dados <- distinct(dados)\n",
    "  print(\"Linha(s) duplicada(s) removida(s).\")\n",
    "}\n",
    "#Verifica e remove valores duplicados."
   ]
  },
  {
   "cell_type": "markdown",
   "id": "e1f65393",
   "metadata": {},
   "source": [
    "## 4ª ETAPA: PRIMEIRA ANÁLISE"
   ]
  },
  {
   "cell_type": "markdown",
   "id": "31b3ee03",
   "metadata": {},
   "source": [
    "### ANÁLISE EXPLORATÓRIA"
   ]
  },
  {
   "cell_type": "code",
   "execution_count": 11,
   "id": "b6df9dbb",
   "metadata": {
    "vscode": {
     "languageId": "r"
    }
   },
   "outputs": [
    {
     "name": "stderr",
     "output_type": "stream",
     "text": [
      "Warning message:\n",
      "\"\u001b[1m\u001b[22mUsing `size` aesthetic for lines was deprecated in ggplot2 3.4.0.\n",
      "\u001b[36mℹ\u001b[39m Please use `linewidth` instead.\"\n",
      "Warning message:\n",
      "\"\u001b[1m\u001b[22mThe dot-dot notation (`..density..`) was deprecated in ggplot2 3.4.0.\n",
      "\u001b[36mℹ\u001b[39m Please use `after_stat(density)` instead.\"\n"
     ]
    },
    {
     "data": {
      "image/png": "[encoded data removed]",
      "text/plain": [
       "plot without title"
      ]
     },
     "metadata": {
      "image/png": {
       "height": 420,
       "width": 420
      }
     },
     "output_type": "display_data"
    }
   ],
   "source": [
    "# a) Análise da Variável Dependente (Charges)\n",
    "# Vamos criar um histograma para ver a distribuição dos custos.\n",
    "ggplot(dados, aes(x = charges)) +\n",
    "  geom_histogram(aes(y = ..density..), fill = \"skyblue\", color = \"white\", bins = 30) +\n",
    "  geom_density(col = \"red\", size = 1) +\n",
    "  labs(\n",
    "    title = \"Distribuição dos Custos Médicos (Charges)\",\n",
    "    x = \"Custos ($)\",\n",
    "    y = \"Densidade\"\n",
    "  ) +\n",
    "  theme_minimal()\n"
   ]
  },
  {
   "cell_type": "code",
   "execution_count": 12,
   "id": "afff7484",
   "metadata": {
    "vscode": {
     "languageId": "r"
    }
   },
   "outputs": [
    {
     "data": {
      "image/png": "[encoded data removed]",
      "text/plain": [
       "plot without title"
      ]
     },
     "metadata": {
      "image/png": {
       "height": 420,
       "width": 420
      }
     },
     "output_type": "display_data"
    }
   ],
   "source": [
    "# b) Visualizando a transformação logarítmica\n",
    "ggplot(dados, aes(x = log(charges))) +\n",
    "  geom_histogram(aes(y = ..density..), fill = \"lightgreen\", color = \"white\", bins = 30) +\n",
    "  geom_density(col = \"darkgreen\", size = 1) +\n",
    "  labs(\n",
    "    title = \"Distribuição dos Custos Médicos (Escala Logarítmica)\",\n",
    "    x = \"Log(Custos)\",\n",
    "    y = \"Densidade\"\n",
    "  ) +\n",
    "  theme_minimal()\n"
   ]
  },
  {
   "cell_type": "code",
   "execution_count": 13,
   "id": "31a4e827",
   "metadata": {
    "vscode": {
     "languageId": "r"
    }
   },
   "outputs": [
    {
     "data": {
      "image/png": "[encoded data removed]",
      "text/plain": [
       "plot without title"
      ]
     },
     "metadata": {
      "image/png": {
       "height": 420,
       "width": 420
      }
     },
     "output_type": "display_data"
    }
   ],
   "source": [
    "# c) Relação de Charges com Preditores Categóricos\n",
    "\n",
    "# Charges vs. Smoker\n",
    "ggplot(dados, aes(x = smoker, y = charges, fill = smoker)) +\n",
    "  geom_boxplot(show.legend = FALSE) +\n",
    "  labs(\n",
    "    title = \"Custos Médicos: Fumantes vs. Não Fumantes\",\n",
    "    x = \"É Fumante?\",\n",
    "    y = \"Custos ($)\"\n",
    "  ) +\n",
    "  scale_y_continuous(labels = scales::dollar) + # Formata o eixo Y para dólar\n",
    "  theme_minimal()\n"
   ]
  },
  {
   "cell_type": "code",
   "execution_count": 14,
   "id": "aa2643ae",
   "metadata": {
    "vscode": {
     "languageId": "r"
    }
   },
   "outputs": [
    {
     "data": {
      "image/png": "[encoded data removed]",
      "text/plain": [
       "plot without title"
      ]
     },
     "metadata": {
      "image/png": {
       "height": 420,
       "width": 420
      }
     },
     "output_type": "display_data"
    }
   ],
   "source": [
    "# d) Relação de Charges com Preditores Quantitativos\n",
    "\n",
    "# Charges vs. Age (colorindo por smoker para mais insights)\n",
    "ggplot(dados, aes(x = age, y = charges)) +\n",
    "  geom_point(aes(color = smoker), alpha = 0.7) +\n",
    "  labs(\n",
    "    title = \"Custo Médico vs. Idade\",\n",
    "    subtitle = \"Colorido por status de fumante\",\n",
    "    x = \"Idade\",\n",
    "    y = \"Custos ($)\"\n",
    "  ) +\n",
    "  theme_minimal()\n"
   ]
  },
  {
   "cell_type": "markdown",
   "id": "2b410602",
   "metadata": {},
   "source": [
    "### MODELAGEM - CONSTRUÇÃO DO MODELO"
   ]
  },
  {
   "cell_type": "code",
   "execution_count": 15,
   "id": "874a3881",
   "metadata": {
    "vscode": {
     "languageId": "r"
    }
   },
   "outputs": [],
   "source": [
    "# Vamos construir nosso primeiro modelo usando os preditores que a Análise\n",
    "# Exploratória sugeriu serem os mais importantes.\n",
    "# Nossa variável dependente será log(charges) para satisfazer os pressupostos do modelo.\n",
    "\n",
    "modelo_1 <- lm(log(charges) ~ age + bmi + smoker, data = dados)"
   ]
  },
  {
   "cell_type": "code",
   "execution_count": 16,
   "id": "5a988a53",
   "metadata": {
    "vscode": {
     "languageId": "r"
    }
   },
   "outputs": [
    {
     "data": {
      "text/plain": [
       "\n",
       "Call:\n",
       "lm(formula = log(charges) ~ age + bmi + smoker, data = dados)\n",
       "\n",
       "Residuals:\n",
       "     Min       1Q   Median       3Q      Max \n",
       "-1.22166 -0.21732 -0.03983  0.10344  2.07125 \n",
       "\n",
       "Coefficients:\n",
       "             Estimate Std. Error t value Pr(>|t|)    \n",
       "(Intercept) 7.0761244  0.0715858   98.85  < 2e-16 ***\n",
       "age         0.0350930  0.0009117   38.49  < 2e-16 ***\n",
       "bmi         0.0107853  0.0020982    5.14 3.15e-07 ***\n",
       "smokeryes   1.5451927  0.0315190   49.02  < 2e-16 ***\n",
       "---\n",
       "Signif. codes:  0 '***' 0.001 '**' 0.01 '*' 0.05 '.' 0.1 ' ' 1\n",
       "\n",
       "Residual standard error: 0.465 on 1333 degrees of freedom\n",
       "Multiple R-squared:  0.7443,\tAdjusted R-squared:  0.7438 \n",
       "F-statistic:  1294 on 3 and 1333 DF,  p-value: < 2.2e-16\n"
      ]
     },
     "metadata": {},
     "output_type": "display_data"
    }
   ],
   "source": [
    "# A função summary() nos dá um relatório completo sobre o nosso modelo.\n",
    "# Este é o output mais importante de toda a sua análise!\n",
    "summary(modelo_1)"
   ]
  },
  {
   "cell_type": "markdown",
   "id": "86b1d10d",
   "metadata": {},
   "source": [
    "### DIAGNÓSTICO DO MODELO"
   ]
  },
  {
   "cell_type": "code",
   "execution_count": 17,
   "id": "dd0b5d61",
   "metadata": {
    "vscode": {
     "languageId": "r"
    }
   },
   "outputs": [
    {
     "data": {
      "image/png": "[encoded data removed]",
      "text/plain": [
       "Plot with title \"\""
      ]
     },
     "metadata": {
      "image/png": {
       "height": 420,
       "width": 420
      }
     },
     "output_type": "display_data"
    }
   ],
   "source": [
    "# A função plot() aplicada a um objeto 'lm' gera 4 gráficos de diagnóstico.\n",
    "# Usamos par(mfrow = c(2, 2)) para arranjar os 4 gráficos em uma grade 2x2.\n",
    "\n",
    "par(mfrow = c(2, 2))\n",
    "plot(modelo_1)\n",
    "\n",
    "# É uma boa prática resetar o layout gráfico para o padrão depois.\n",
    "par(mfrow = c(1, 1))\n"
   ]
  },
  {
   "cell_type": "markdown",
   "id": "6fbe6888",
   "metadata": {},
   "source": [
    "## 5ª ETAPA: SEGUNDA ANÁLISE"
   ]
  },
  {
   "cell_type": "markdown",
   "id": "4fa60586",
   "metadata": {},
   "source": [
    "### ANÁLISE EXPLORATÓRIA"
   ]
  },
  {
   "cell_type": "code",
   "execution_count": 18,
   "id": "6c58ce78",
   "metadata": {
    "vscode": {
     "languageId": "r"
    }
   },
   "outputs": [
    {
     "data": {
      "image/png": "[encoded data removed]",
      "text/plain": [
       "plot without title"
      ]
     },
     "metadata": {
      "image/png": {
       "height": 420,
       "width": 420
      }
     },
     "output_type": "display_data"
    }
   ],
   "source": [
    "ggplot(dados, aes(y = bmi)) +\n",
    "  geom_boxplot(fill = \"orange\") +\n",
    "  labs(title = \"Identificação de Outliers em 'bmi'\", y = \"Índice de Massa Corporal (IMC)\") +\n",
    "  theme_minimal()\n",
    "# Visualizando um boxplot que distribui a mediana do IMC das pessoas, é possível identificar algumas discrepâncias com\n",
    "# IMC muito alto, ou seja, outliers. Essas pessoas podem de fato possuir esse IMC, portanto, não serão desconsideradas.\n",
    "# Isso pode apontar para o fato de que algumas pessoas podem ter custos médicos altos não em decorrência do cigarro, mas talvez\n",
    "# da obesidade, podendo possuir esse fato correlação com o hábito de fumar ou não."
   ]
  },
  {
   "cell_type": "code",
   "execution_count": 19,
   "id": "a5e39600",
   "metadata": {
    "vscode": {
     "languageId": "r"
    }
   },
   "outputs": [
    {
     "data": {
      "text/html": [
       "<table class=\"dataframe\">\n",
       "<caption>A data.frame: 6 × 7</caption>\n",
       "<thead>\n",
       "\t<tr><th></th><th scope=col>idade</th><th scope=col>sexo</th><th scope=col>imc</th><th scope=col>filhos</th><th scope=col>fumante</th><th scope=col>regiao</th><th scope=col>custos</th></tr>\n",
       "\t<tr><th></th><th scope=col>&lt;int&gt;</th><th scope=col>&lt;fct&gt;</th><th scope=col>&lt;dbl&gt;</th><th scope=col>&lt;int&gt;</th><th scope=col>&lt;fct&gt;</th><th scope=col>&lt;fct&gt;</th><th scope=col>&lt;dbl&gt;</th></tr>\n",
       "</thead>\n",
       "<tbody>\n",
       "\t<tr><th scope=row>1</th><td>19</td><td>female</td><td>27.900</td><td>0</td><td>yes</td><td>southwest</td><td>16884.924</td></tr>\n",
       "\t<tr><th scope=row>2</th><td>18</td><td>male  </td><td>33.770</td><td>1</td><td>no </td><td>southeast</td><td> 1725.552</td></tr>\n",
       "\t<tr><th scope=row>3</th><td>28</td><td>male  </td><td>33.000</td><td>3</td><td>no </td><td>southeast</td><td> 4449.462</td></tr>\n",
       "\t<tr><th scope=row>4</th><td>33</td><td>male  </td><td>22.705</td><td>0</td><td>no </td><td>northwest</td><td>21984.471</td></tr>\n",
       "\t<tr><th scope=row>5</th><td>32</td><td>male  </td><td>28.880</td><td>0</td><td>no </td><td>northwest</td><td> 3866.855</td></tr>\n",
       "\t<tr><th scope=row>6</th><td>31</td><td>female</td><td>25.740</td><td>0</td><td>no </td><td>southeast</td><td> 3756.622</td></tr>\n",
       "</tbody>\n",
       "</table>\n"
      ],
      "text/latex": [
       "A data.frame: 6 × 7\n",
       "\\begin{tabular}{r|lllllll}\n",
       "  & idade & sexo & imc & filhos & fumante & regiao & custos\\\\\n",
       "  & <int> & <fct> & <dbl> & <int> & <fct> & <fct> & <dbl>\\\\\n",
       "\\hline\n",
       "\t1 & 19 & female & 27.900 & 0 & yes & southwest & 16884.924\\\\\n",
       "\t2 & 18 & male   & 33.770 & 1 & no  & southeast &  1725.552\\\\\n",
       "\t3 & 28 & male   & 33.000 & 3 & no  & southeast &  4449.462\\\\\n",
       "\t4 & 33 & male   & 22.705 & 0 & no  & northwest & 21984.471\\\\\n",
       "\t5 & 32 & male   & 28.880 & 0 & no  & northwest &  3866.855\\\\\n",
       "\t6 & 31 & female & 25.740 & 0 & no  & southeast &  3756.622\\\\\n",
       "\\end{tabular}\n"
      ],
      "text/markdown": [
       "\n",
       "A data.frame: 6 × 7\n",
       "\n",
       "| <!--/--> | idade &lt;int&gt; | sexo &lt;fct&gt; | imc &lt;dbl&gt; | filhos &lt;int&gt; | fumante &lt;fct&gt; | regiao &lt;fct&gt; | custos &lt;dbl&gt; |\n",
       "|---|---|---|---|---|---|---|---|\n",
       "| 1 | 19 | female | 27.900 | 0 | yes | southwest | 16884.924 |\n",
       "| 2 | 18 | male   | 33.770 | 1 | no  | southeast |  1725.552 |\n",
       "| 3 | 28 | male   | 33.000 | 3 | no  | southeast |  4449.462 |\n",
       "| 4 | 33 | male   | 22.705 | 0 | no  | northwest | 21984.471 |\n",
       "| 5 | 32 | male   | 28.880 | 0 | no  | northwest |  3866.855 |\n",
       "| 6 | 31 | female | 25.740 | 0 | no  | southeast |  3756.622 |\n",
       "\n"
      ],
      "text/plain": [
       "  idade sexo   imc    filhos fumante regiao    custos   \n",
       "1 19    female 27.900 0      yes     southwest 16884.924\n",
       "2 18    male   33.770 1      no      southeast  1725.552\n",
       "3 28    male   33.000 3      no      southeast  4449.462\n",
       "4 33    male   22.705 0      no      northwest 21984.471\n",
       "5 32    male   28.880 0      no      northwest  3866.855\n",
       "6 31    female 25.740 0      no      southeast  3756.622"
      ]
     },
     "metadata": {},
     "output_type": "display_data"
    }
   ],
   "source": [
    "dados <- dados %>%\n",
    "     rename(\n",
    "       idade = age,\n",
    "       sexo = sex,\n",
    "       imc = bmi,\n",
    "       filhos = children,\n",
    "       fumante = smoker,\n",
    "       regiao = region,\n",
    "       custos = charges\n",
    "     )\n",
    "   head(dados)\n",
    "# Renomeia colunas para melhor organização e identificação de seus dados."
   ]
  },
  {
   "cell_type": "code",
   "execution_count": 20,
   "id": "cf278eef",
   "metadata": {
    "vscode": {
     "languageId": "r"
    }
   },
   "outputs": [
    {
     "data": {
      "text/plain": [
       "     idade           sexo          imc            filhos      fumante   \n",
       " Min.   :18.00   female:662   Min.   :15.96   Min.   :0.000   no :1063  \n",
       " 1st Qu.:27.00   male  :675   1st Qu.:26.29   1st Qu.:0.000   yes: 274  \n",
       " Median :39.00                Median :30.40   Median :1.000             \n",
       " Mean   :39.22                Mean   :30.66   Mean   :1.096             \n",
       " 3rd Qu.:51.00                3rd Qu.:34.70   3rd Qu.:2.000             \n",
       " Max.   :64.00                Max.   :53.13   Max.   :5.000             \n",
       "       regiao        custos     \n",
       " northeast:324   Min.   : 1122  \n",
       " northwest:324   1st Qu.: 4746  \n",
       " southeast:364   Median : 9386  \n",
       " southwest:325   Mean   :13279  \n",
       "                 3rd Qu.:16658  \n",
       "                 Max.   :63770  "
      ]
     },
     "metadata": {},
     "output_type": "display_data"
    }
   ],
   "source": [
    "summary(dados)\n",
    "# A Média de 'charges' ($13.2k) é bem maior que a Mediana ($9.3k),\n",
    "# indicando que custos muito altos de poucas pessoas influenciam o total.\n",
    "# A base é bem balanceada em sexo e região, mas com muito mais não-fumantes.\n"
   ]
  },
  {
   "cell_type": "code",
   "execution_count": 21,
   "id": "40f495b2",
   "metadata": {
    "vscode": {
     "languageId": "r"
    }
   },
   "outputs": [
    {
     "data": {
      "image/png": "[encoded data removed]",
      "text/plain": [
       "plot without title"
      ]
     },
     "metadata": {
      "image/png": {
       "height": 420,
       "width": 420
      }
     },
     "output_type": "display_data"
    }
   ],
   "source": [
    "ggplot(dados, aes(x = custos)) +\n",
    "  geom_histogram(fill = \"skyblue\", color = \"white\", bins = 30) +\n",
    "  labs(\n",
    "    title = \"Distribuição dos Custos Médicos (Charges)\",\n",
    "    x = \"Custos ($)\",\n",
    "    y = \"Frequência\"\n",
    "  ) +\n",
    "  theme_minimal()\n",
    "# O gráfico exibe a distribuição horizontal dos custos médicos e o quão pertinentes eles são.\n",
    "# É possível identificar uma assimetria a direita, indicando maior frequência de custos à esquerda.\n",
    "# Ou seja, os gastos mais frequentes são os que estão à esquerda, os menores horizontalmente.\n",
    "# Isso aponta para o fato de que as pessoas possuem mais custos médicos baixos do que altos.\n"
   ]
  },
  {
   "cell_type": "code",
   "execution_count": 22,
   "id": "c2a980ae",
   "metadata": {
    "vscode": {
     "languageId": "r"
    }
   },
   "outputs": [
    {
     "data": {
      "image/png": "[encoded data removed]",
      "text/plain": [
       "plot without title"
      ]
     },
     "metadata": {
      "image/png": {
       "height": 420,
       "width": 420
      }
     },
     "output_type": "display_data"
    }
   ],
   "source": [
    "ggplot(dados, aes(x = fumante, y = custos, fill = fumante)) +\n",
    "  geom_boxplot(show.legend = FALSE) +\n",
    "  labs(\n",
    "    title = \"Custos Médicos: Fumantes vs. Não Fumantes\",\n",
    "    x = \"É Fumante?\",\n",
    "    y = \"Custos ($)\"\n",
    "  ) +\n",
    "  theme_minimal()\n",
    "# Dada as conclusões do gráfico anterior, deve-se analisar o ponto central da distribuição horizontal verificada,\n",
    "# Uma vez que ela é assimétrica e demostra haverem alguns outliers\n",
    "# É questionável também o fato de não sabermos quem são os fumantes e não-fumantes nessa distribuição.\n",
    "# A partir da mediana dos custos médicos entre fumantes e não fumantes, algo fica claro.\n",
    "# Pessoas que fumam possuem gastos muito maiores do que pessoas que não fumam, com exceção de alguns outliers.\n",
    "# Isso leva a entender que os fumantes se encaixam na parte assimétrica do gráfico anterior."
   ]
  }
 ],
 "metadata": {
  "kernelspec": {
   "display_name": "R",
   "language": "R",
   "name": "ir"
  },
  "language_info": {
   "codemirror_mode": "r",
   "file_extension": ".r",
   "mimetype": "text/x-r-source",
   "name": "R",
   "pygments_lexer": "r",
   "version": "4.5.1"
  }
 },
 "nbformat": 4,
 "nbformat_minor": 5
}
